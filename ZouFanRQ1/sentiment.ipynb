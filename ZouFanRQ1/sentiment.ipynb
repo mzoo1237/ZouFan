{
 "cells": [
  {
   "cell_type": "code",
   "execution_count": 4,
   "metadata": {},
   "outputs": [],
   "source": [
    "import snownlp\n",
    "from snownlp import SnowNLP\n",
    "from snownlp import sentiment\n",
    "import pandas as pd\n",
    "import numpy as np\n",
    "import csv\n",
    "from pandas import DataFrame"
   ]
  },
  {
   "cell_type": "code",
   "execution_count": 24,
   "metadata": {},
   "outputs": [],
   "source": [
    "df = pd.read_csv('zoufan(1).csv', header=0,encoding='utf-8',dtype=str)"
   ]
  },
  {
   "cell_type": "code",
   "execution_count": 25,
   "metadata": {},
   "outputs": [
    {
     "data": {
      "text/plain": [
       "0                                              要有足够的自知之明\n",
       "1                                            因为害怕，干脆拒绝一切\n",
       "2                                              对所有事物抱有恐惧\n",
       "3                                 饭饭 如果现在来一场车祸该多好 撞死我该多好\n",
       "4                                               我真的做的太烂了\n",
       "                             ...                        \n",
       "469                              微博要是能按页数看就好了。在开发一个一键删博。\n",
       "470    主要是我太喜欢删东西了。还喜欢转发微博。又不喜欢微博一直是那么多条。感觉就像强迫症一样看着不方便。\n",
       "471                                      应该算日常生活吐槽➕ 分享那种\n",
       "472                            就很多。各种都分享的那种（买过的东西和推荐的剧之类\n",
       "473                                     我也好希望能开个博专门分享东西。\n",
       "Name: 评论, Length: 474, dtype: object"
      ]
     },
     "execution_count": 25,
     "metadata": {},
     "output_type": "execute_result"
    }
   ],
   "source": [
    "df[\"评论\"]"
   ]
  },
  {
   "cell_type": "code",
   "execution_count": 28,
   "metadata": {},
   "outputs": [
    {
     "data": {
      "text/plain": [
       "0.9562415503561497"
      ]
     },
     "execution_count": 28,
     "metadata": {},
     "output_type": "execute_result"
    }
   ],
   "source": [
    "# 测试分析第一条\n",
    "text = df.评论.iloc[0]\n",
    "s = SnowNLP(text)\n",
    "s.sentiments"
   ]
  },
  {
   "cell_type": "code",
   "execution_count": 29,
   "metadata": {},
   "outputs": [
    {
     "data": {
      "text/html": [
       "<div>\n",
       "<style scoped>\n",
       "    .dataframe tbody tr th:only-of-type {\n",
       "        vertical-align: middle;\n",
       "    }\n",
       "\n",
       "    .dataframe tbody tr th {\n",
       "        vertical-align: top;\n",
       "    }\n",
       "\n",
       "    .dataframe thead th {\n",
       "        text-align: right;\n",
       "    }\n",
       "</style>\n",
       "<table border=\"1\" class=\"dataframe\">\n",
       "  <thead>\n",
       "    <tr style=\"text-align: right;\">\n",
       "      <th></th>\n",
       "      <th>Unnamed: 0</th>\n",
       "      <th>id</th>\n",
       "      <th>用户名</th>\n",
       "      <th>性别</th>\n",
       "      <th>地区</th>\n",
       "      <th>评论</th>\n",
       "      <th>时间</th>\n",
       "      <th>表情</th>\n",
       "      <th>sentiment</th>\n",
       "    </tr>\n",
       "  </thead>\n",
       "  <tbody>\n",
       "    <tr>\n",
       "      <th>0</th>\n",
       "      <td>0</td>\n",
       "      <td>7509189899</td>\n",
       "      <td>偶然间经过</td>\n",
       "      <td>女</td>\n",
       "      <td>江苏</td>\n",
       "      <td>要有足够的自知之明</td>\n",
       "      <td>31分钟前</td>\n",
       "      <td>NaN</td>\n",
       "      <td>0.956242</td>\n",
       "    </tr>\n",
       "    <tr>\n",
       "      <th>1</th>\n",
       "      <td>1</td>\n",
       "      <td>6289332039</td>\n",
       "      <td>BEASLAYER</td>\n",
       "      <td>女</td>\n",
       "      <td>其他</td>\n",
       "      <td>因为害怕，干脆拒绝一切</td>\n",
       "      <td>1小时前</td>\n",
       "      <td>NaN</td>\n",
       "      <td>0.173014</td>\n",
       "    </tr>\n",
       "    <tr>\n",
       "      <th>2</th>\n",
       "      <td>2</td>\n",
       "      <td>6289332039</td>\n",
       "      <td>BEASLAYER</td>\n",
       "      <td>女</td>\n",
       "      <td>其他</td>\n",
       "      <td>对所有事物抱有恐惧</td>\n",
       "      <td>1小时前</td>\n",
       "      <td>NaN</td>\n",
       "      <td>0.954698</td>\n",
       "    </tr>\n",
       "    <tr>\n",
       "      <th>3</th>\n",
       "      <td>3</td>\n",
       "      <td>2695315050</td>\n",
       "      <td>别睡了回家了</td>\n",
       "      <td>别睡了回家了</td>\n",
       "      <td>海外</td>\n",
       "      <td>饭饭 如果现在来一场车祸该多好 撞死我该多好</td>\n",
       "      <td>2小时前</td>\n",
       "      <td>NaN</td>\n",
       "      <td>0.997069</td>\n",
       "    </tr>\n",
       "    <tr>\n",
       "      <th>4</th>\n",
       "      <td>4</td>\n",
       "      <td>1715253601</td>\n",
       "      <td>头拿混</td>\n",
       "      <td>男</td>\n",
       "      <td>广东</td>\n",
       "      <td>我真的做的太烂了</td>\n",
       "      <td>3小时前</td>\n",
       "      <td>NaN</td>\n",
       "      <td>0.160229</td>\n",
       "    </tr>\n",
       "  </tbody>\n",
       "</table>\n",
       "</div>"
      ],
      "text/plain": [
       "  Unnamed: 0          id        用户名      性别  地区                      评论  \\\n",
       "0          0  7509189899      偶然间经过       女  江苏               要有足够的自知之明   \n",
       "1          1  6289332039  BEASLAYER       女  其他             因为害怕，干脆拒绝一切   \n",
       "2          2  6289332039  BEASLAYER       女  其他               对所有事物抱有恐惧   \n",
       "3          3  2695315050     别睡了回家了  别睡了回家了  海外  饭饭 如果现在来一场车祸该多好 撞死我该多好   \n",
       "4          4  1715253601        头拿混       男  广东                我真的做的太烂了   \n",
       "\n",
       "      时间   表情  sentiment  \n",
       "0  31分钟前  NaN   0.956242  \n",
       "1   1小时前  NaN   0.173014  \n",
       "2   1小时前  NaN   0.954698  \n",
       "3   2小时前  NaN   0.997069  \n",
       "4   3小时前  NaN   0.160229  "
      ]
     },
     "execution_count": 29,
     "metadata": {},
     "output_type": "execute_result"
    }
   ],
   "source": [
    "# 进行批量处理\n",
    "def get_sentiment_cn(text):\n",
    "    s = SnowNLP(text)\n",
    "    return s.sentiments\n",
    "df[\"sentiment\"] = df.评论.apply(get_sentiment_cn)\n",
    "df.head()"
   ]
  },
  {
   "cell_type": "code",
   "execution_count": 34,
   "metadata": {},
   "outputs": [
    {
     "data": {
      "text/plain": [
       "0.5710765307069458"
      ]
     },
     "execution_count": 34,
     "metadata": {},
     "output_type": "execute_result"
    }
   ],
   "source": [
    "df.sentiment.mean()"
   ]
  },
  {
   "cell_type": "code",
   "execution_count": 35,
   "metadata": {},
   "outputs": [
    {
     "data": {
      "text/html": [
       "<div>\n",
       "<style scoped>\n",
       "    .dataframe tbody tr th:only-of-type {\n",
       "        vertical-align: middle;\n",
       "    }\n",
       "\n",
       "    .dataframe tbody tr th {\n",
       "        vertical-align: top;\n",
       "    }\n",
       "\n",
       "    .dataframe thead th {\n",
       "        text-align: right;\n",
       "    }\n",
       "</style>\n",
       "<table border=\"1\" class=\"dataframe\">\n",
       "  <thead>\n",
       "    <tr style=\"text-align: right;\">\n",
       "      <th></th>\n",
       "      <th>word</th>\n",
       "      <th>count</th>\n",
       "    </tr>\n",
       "  </thead>\n",
       "  <tbody>\n",
       "    <tr>\n",
       "      <th>0</th>\n",
       "      <td>一键</td>\n",
       "      <td>1</td>\n",
       "    </tr>\n",
       "    <tr>\n",
       "      <th>1</th>\n",
       "      <td>上坡</td>\n",
       "      <td>1</td>\n",
       "    </tr>\n",
       "    <tr>\n",
       "      <th>2</th>\n",
       "      <td>上班</td>\n",
       "      <td>1</td>\n",
       "    </tr>\n",
       "    <tr>\n",
       "      <th>3</th>\n",
       "      <td>下坡</td>\n",
       "      <td>1</td>\n",
       "    </tr>\n",
       "    <tr>\n",
       "      <th>4</th>\n",
       "      <td>不下</td>\n",
       "      <td>1</td>\n",
       "    </tr>\n",
       "    <tr>\n",
       "      <th>...</th>\n",
       "      <td>...</td>\n",
       "      <td>...</td>\n",
       "    </tr>\n",
       "    <tr>\n",
       "      <th>501</th>\n",
       "      <td>颤抖</td>\n",
       "      <td>1</td>\n",
       "    </tr>\n",
       "    <tr>\n",
       "      <th>502</th>\n",
       "      <td>风月</td>\n",
       "      <td>1</td>\n",
       "    </tr>\n",
       "    <tr>\n",
       "      <th>503</th>\n",
       "      <td>驾驶</td>\n",
       "      <td>1</td>\n",
       "    </tr>\n",
       "    <tr>\n",
       "      <th>504</th>\n",
       "      <td>验证</td>\n",
       "      <td>1</td>\n",
       "    </tr>\n",
       "    <tr>\n",
       "      <th>505</th>\n",
       "      <td>黄桃</td>\n",
       "      <td>2</td>\n",
       "    </tr>\n",
       "  </tbody>\n",
       "</table>\n",
       "<p>506 rows × 2 columns</p>\n",
       "</div>"
      ],
      "text/plain": [
       "    word count\n",
       "0     一键     1\n",
       "1     上坡     1\n",
       "2     上班     1\n",
       "3     下坡     1\n",
       "4     不下     1\n",
       "..   ...   ...\n",
       "501   颤抖     1\n",
       "502   风月     1\n",
       "503   驾驶     1\n",
       "504   验证     1\n",
       "505   黄桃     2\n",
       "\n",
       "[506 rows x 2 columns]"
      ]
     },
     "execution_count": 35,
     "metadata": {},
     "output_type": "execute_result"
    }
   ],
   "source": [
    "# 由于预览结果不符合期待，单独对分词进行分析\n",
    "df1 = pd.read_csv('keywords1.csv', header=0,encoding='utf-8',dtype=str)\n",
    "df1"
   ]
  },
  {
   "cell_type": "code",
   "execution_count": 36,
   "metadata": {},
   "outputs": [
    {
     "data": {
      "text/plain": [
       "0.5660377358490564"
      ]
     },
     "execution_count": 36,
     "metadata": {},
     "output_type": "execute_result"
    }
   ],
   "source": [
    "# 测试分析第一条\n",
    "text = df1.word.iloc[0]\n",
    "s = SnowNLP(text)\n",
    "s.sentiments"
   ]
  },
  {
   "cell_type": "code",
   "execution_count": 38,
   "metadata": {},
   "outputs": [
    {
     "data": {
      "text/html": [
       "<div>\n",
       "<style scoped>\n",
       "    .dataframe tbody tr th:only-of-type {\n",
       "        vertical-align: middle;\n",
       "    }\n",
       "\n",
       "    .dataframe tbody tr th {\n",
       "        vertical-align: top;\n",
       "    }\n",
       "\n",
       "    .dataframe thead th {\n",
       "        text-align: right;\n",
       "    }\n",
       "</style>\n",
       "<table border=\"1\" class=\"dataframe\">\n",
       "  <thead>\n",
       "    <tr style=\"text-align: right;\">\n",
       "      <th></th>\n",
       "      <th>word</th>\n",
       "      <th>count</th>\n",
       "      <th>sentiment</th>\n",
       "    </tr>\n",
       "  </thead>\n",
       "  <tbody>\n",
       "    <tr>\n",
       "      <th>0</th>\n",
       "      <td>一键</td>\n",
       "      <td>1</td>\n",
       "      <td>0.566038</td>\n",
       "    </tr>\n",
       "    <tr>\n",
       "      <th>1</th>\n",
       "      <td>上坡</td>\n",
       "      <td>1</td>\n",
       "      <td>0.058776</td>\n",
       "    </tr>\n",
       "    <tr>\n",
       "      <th>2</th>\n",
       "      <td>上班</td>\n",
       "      <td>1</td>\n",
       "      <td>0.347826</td>\n",
       "    </tr>\n",
       "    <tr>\n",
       "      <th>3</th>\n",
       "      <td>下坡</td>\n",
       "      <td>1</td>\n",
       "      <td>0.500000</td>\n",
       "    </tr>\n",
       "    <tr>\n",
       "      <th>4</th>\n",
       "      <td>不下</td>\n",
       "      <td>1</td>\n",
       "      <td>0.349084</td>\n",
       "    </tr>\n",
       "  </tbody>\n",
       "</table>\n",
       "</div>"
      ],
      "text/plain": [
       "  word count  sentiment\n",
       "0   一键     1   0.566038\n",
       "1   上坡     1   0.058776\n",
       "2   上班     1   0.347826\n",
       "3   下坡     1   0.500000\n",
       "4   不下     1   0.349084"
      ]
     },
     "execution_count": 38,
     "metadata": {},
     "output_type": "execute_result"
    }
   ],
   "source": [
    "# 进行批量处理\n",
    "def get_sentiment_cn(text):\n",
    "    s = SnowNLP(text)\n",
    "    return s.sentiments\n",
    "df1[\"sentiment\"] = df1.word.apply(get_sentiment_cn)\n",
    "df1.head()"
   ]
  },
  {
   "cell_type": "code",
   "execution_count": 39,
   "metadata": {},
   "outputs": [
    {
     "data": {
      "text/plain": [
       "0.5524269647610558"
      ]
     },
     "execution_count": 39,
     "metadata": {},
     "output_type": "execute_result"
    }
   ],
   "source": [
    "df1.sentiment.mean()"
   ]
  },
  {
   "cell_type": "code",
   "execution_count": 44,
   "metadata": {},
   "outputs": [],
   "source": [
    "# 画图看看\n",
    "import seaborn as sns\n",
    "import matplotlib.pyplot as plt"
   ]
  },
  {
   "cell_type": "code",
   "execution_count": 49,
   "metadata": {},
   "outputs": [
    {
     "data": {
      "image/png": "[encoded data removed]",
      "text/plain": [
       "<Figure size 360x360 with 1 Axes>"
      ]
     },
     "metadata": {
      "needs_background": "light"
     },
     "output_type": "display_data"
    }
   ],
   "source": [
    "# 句子的直方图\n",
    "sns.displot(df['sentiment'])\n",
    "plt.show()"
   ]
  },
  {
   "cell_type": "code",
   "execution_count": 50,
   "metadata": {},
   "outputs": [
    {
     "data": {
      "image/png": "[encoded data removed]",
      "text/plain": [
       "<Figure size 360x360 with 1 Axes>"
      ]
     },
     "metadata": {
      "needs_background": "light"
     },
     "output_type": "display_data"
    }
   ],
   "source": [
    "# 词语的直方图\n",
    "sns.displot(df1['sentiment'])\n",
    "plt.show()"
   ]
  },
  {
   "cell_type": "code",
   "execution_count": null,
   "metadata": {},
   "outputs": [],
   "source": []
  }
 ],
 "metadata": {
  "kernelspec": {
   "display_name": "Python 3",
   "language": "python",
   "name": "python3"
  },
  "language_info": {
   "codemirror_mode": {
    "name": "ipython",
    "version": 3
   },
   "file_extension": ".py",
   "mimetype": "text/x-python",
   "name": "python",
   "nbconvert_exporter": "python",
   "pygments_lexer": "ipython3",
   "version": "3.8.5"
  }
 },
 "nbformat": 4,
 "nbformat_minor": 4
}
